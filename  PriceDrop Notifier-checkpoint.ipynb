{
 "cells": [
  {
   "cell_type": "markdown",
   "id": "f9e44446-5165-49c2-a3d7-be56e82d3a04",
   "metadata": {},
   "source": [
    "### PriceDrop Notifier\n"
   ]
  },
  {
   "cell_type": "code",
   "execution_count": 16,
   "id": "d9e0783b-4a34-4806-af8e-208ecb18b757",
   "metadata": {},
   "outputs": [
    {
     "name": "stdout",
     "output_type": "stream",
     "text": [
      "Collecting python-dotenv\n",
      "  Downloading python_dotenv-1.0.1-py3-none-any.whl.metadata (23 kB)\n",
      "Downloading python_dotenv-1.0.1-py3-none-any.whl (19 kB)\n",
      "Installing collected packages: python-dotenv\n",
      "Successfully installed python-dotenv-1.0.1\n"
     ]
    }
   ],
   "source": [
    "!pip install python-dotenv\n"
   ]
  },
  {
   "cell_type": "code",
   "execution_count": 17,
   "id": "704e25ca-71bb-4f48-9b88-574de915c69b",
   "metadata": {},
   "outputs": [],
   "source": [
    "import requests\n",
    "from bs4 import BeautifulSoup\n",
    "import smtplib\n",
    "from email.mime.text import MIMEText\n",
    "from email.mime.multipart import MIMEMultipart\n",
    "import os\n",
    "from dotenv import load_dotenv\n"
   ]
  },
  {
   "cell_type": "code",
   "execution_count": 25,
   "id": "5a34f4ef-fd00-4c01-88a4-175d9a7e2b22",
   "metadata": {},
   "outputs": [],
   "source": [
    "PRODUCT_URL = \"https://www.ebay.com/itm/275894715017?epid=15056259255&hash=item403c9b4289:g:uWkAAOSwA7hjiSOq\"\n",
    "TARGET_PRICE = 3500  "
   ]
  },
  {
   "cell_type": "code",
   "execution_count": 26,
   "id": "9987abb0-cc96-4175-96e0-ff0be32a8d36",
   "metadata": {},
   "outputs": [],
   "source": [
    "response = requests.get(PRODUCT_URL)\n",
    "soup = BeautifulSoup(response.text, 'lxml')\n",
    "price_element = soup.select_one(\".x-price-primary span.ux-textspans\")"
   ]
  },
  {
   "cell_type": "code",
   "execution_count": 27,
   "id": "d51da815-26d9-4c7f-b83d-17f44eb3c6bf",
   "metadata": {},
   "outputs": [
    {
     "name": "stdout",
     "output_type": "stream",
     "text": [
      "Current price: $3500.0\n",
      "🚀 Alert! The price has dropped below your target!\n"
     ]
    }
   ],
   "source": [
    "if price_element:\n",
    "    price_text = price_element.get_text().strip()\n",
    "    price = float(price_text.replace(\"$\", \"\").replace(\",\", \"\"))\n",
    "    print(f\"Current price: ${price}\")\n",
    "    \n",
    "    if price <= TARGET_PRICE:\n",
    "        print(\"🚀 Alert! The price has dropped below your target!\")\n",
    "        \n"
   ]
  },
  {
   "cell_type": "code",
   "execution_count": 34,
   "id": "78640417-f40a-4fe4-8c57-d1a84d52c328",
   "metadata": {},
   "outputs": [
    {
     "name": "stdout",
     "output_type": "stream",
     "text": [
      "Email sent successfully!\n"
     ]
    }
   ],
   "source": [
    "\n",
    "\n",
    "def send_email_alert(price):\n",
    "    subject = \"Price Drop Alert!\"\n",
    "    body = f\"The price of the item has dropped below your target price! Current price: ${price}\"\n",
    "\n",
    "    msg = MIMEMultipart()\n",
    "    msg['From'] = 'email'\n",
    "    msg['To'] = 'email' \n",
    "    msg['Subject'] = subject\n",
    "    msg.attach(MIMEText(body, 'plain'))\n",
    "\n",
    "    try:\n",
    "        with smtplib.SMTP_SSL('smtp.gmail.com', 465) as server:\n",
    "            server.login('email', 'Password')  # Use App Password if 2FA is enabled\n",
    "            server.sendmail('email', 'email', msg.as_string())  # receiver email\n",
    "            print(\"Email sent successfully!\")\n",
    "    except Exception as e:\n",
    "        print(f\"Failed to send email: {e}\")\n",
    "\n",
    "# call to the function\n",
    "send_email_alert(29.99)\n"
   ]
  },
  {
   "cell_type": "code",
   "execution_count": null,
   "id": "d6fe291d-3574-4105-9b29-66e8165ea25a",
   "metadata": {},
   "outputs": [],
   "source": []
  },
  {
   "cell_type": "code",
   "execution_count": null,
   "id": "cc492166-b3f1-4f9b-b7c3-de998b1d34f8",
   "metadata": {},
   "outputs": [],
   "source": []
  },
  {
   "cell_type": "code",
   "execution_count": null,
   "id": "4bc1a92e-e972-4db5-88a1-233a1032846f",
   "metadata": {},
   "outputs": [],
   "source": []
  },
  {
   "cell_type": "code",
   "execution_count": null,
   "id": "a6b15544-9b6d-43c9-bbf0-b938264b5eb6",
   "metadata": {},
   "outputs": [],
   "source": []
  },
  {
   "cell_type": "code",
   "execution_count": null,
   "id": "300ae151-3d93-4fac-b365-717f5c816956",
   "metadata": {},
   "outputs": [],
   "source": []
  },
  {
   "cell_type": "code",
   "execution_count": null,
   "id": "6ce18dd8-e095-4237-9a1e-a1f5292324e5",
   "metadata": {},
   "outputs": [],
   "source": []
  },
  {
   "cell_type": "code",
   "execution_count": null,
   "id": "baac6bd9-2d07-4f4b-bf1f-dd914e5cfa91",
   "metadata": {},
   "outputs": [],
   "source": []
  },
  {
   "cell_type": "code",
   "execution_count": null,
   "id": "d6ebec32-9b17-4b65-bbcd-a6ef8d55b81e",
   "metadata": {},
   "outputs": [],
   "source": []
  },
  {
   "cell_type": "code",
   "execution_count": null,
   "id": "e3c833eb-26ec-4df3-b6bf-f2a38672e958",
   "metadata": {},
   "outputs": [],
   "source": []
  }
 ],
 "metadata": {
  "kernelspec": {
   "display_name": "Python 3 (ipykernel)",
   "language": "python",
   "name": "python3"
  },
  "language_info": {
   "codemirror_mode": {
    "name": "ipython",
    "version": 3
   },
   "file_extension": ".py",
   "mimetype": "text/x-python",
   "name": "python",
   "nbconvert_exporter": "python",
   "pygments_lexer": "ipython3",
   "version": "3.12.3"
  },
  "widgets": {
   "application/vnd.jupyter.widget-state+json": {
    "state": {},
    "version_major": 2,
    "version_minor": 0
   }
  }
 },
 "nbformat": 4,
 "nbformat_minor": 5
}
