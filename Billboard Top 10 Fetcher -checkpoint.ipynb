{
 "cells": [
  {
   "cell_type": "code",
   "execution_count": 7,
   "id": "62929374-053b-4d6a-af83-b06c398c2077",
   "metadata": {},
   "outputs": [],
   "source": [
    "import requests  \n",
    "from bs4 import BeautifulSoup  \n",
    "import pandas as pd  \n",
    "from datetime import datetime, timedelta  \n"
   ]
  },
  {
   "cell_type": "code",
   "execution_count": 8,
   "id": "506411e9-0f47-40f8-a68c-8b0ac8d6cf73",
   "metadata": {},
   "outputs": [],
   "source": [
    "# Function to generate recent Billboard chart dates (last 5 weeks)\n",
    "def get_recent_dates():\n",
    "    today = datetime.today()\n",
    "    last_saturday = today - timedelta(days=(today.weekday() + 2) % 7)  # Billboard charts update every Saturday\n",
    "    return [(last_saturday - timedelta(weeks=i)).strftime(\"%Y-%m-%d\") for i in range(5)]\n"
   ]
  },
  {
   "cell_type": "code",
   "execution_count": 9,
   "id": "c49a03ba-cd8a-48b0-bc1c-ca0f6393a00d",
   "metadata": {},
   "outputs": [
    {
     "name": "stdout",
     "output_type": "stream",
     "text": [
      "📅 Available recent Billboard chart dates:\n",
      "1. 2025-02-15\n",
      "2. 2025-02-08\n",
      "3. 2025-02-01\n",
      "4. 2025-01-25\n",
      "5. 2025-01-18\n"
     ]
    }
   ],
   "source": [
    "# Display recent available chart dates\n",
    "recent_dates = get_recent_dates()\n",
    "print(\"📅 Available recent Billboard chart dates:\")\n",
    "for idx, date in enumerate(recent_dates):\n",
    "    print(f\"{idx+1}. {date}\")"
   ]
  },
  {
   "cell_type": "code",
   "execution_count": 10,
   "id": "31d18552-130a-4124-b578-8f1910a3e631",
   "metadata": {},
   "outputs": [
    {
     "name": "stdin",
     "output_type": "stream",
     "text": [
      "\n",
      "Enter a date (YYYY-MM-DD) or select from above (1-5), or press Enter for the latest chart:  1\n"
     ]
    }
   ],
   "source": [
    "# Ask user for input\n",
    "date_input = input(\"\\nEnter a date (YYYY-MM-DD) or select from above (1-5), or press Enter for the latest chart: \").strip()\n"
   ]
  },
  {
   "cell_type": "code",
   "execution_count": 12,
   "id": "10624900-fa21-46c0-b694-9d96a61efab2",
   "metadata": {},
   "outputs": [],
   "source": [
    "# Determine the correct date URL\n",
    "if date_input in map(str, range(1, 6)):  # If user picks 1-5\n",
    "    selected_date = recent_dates[int(date_input) - 1]\n",
    "    url = f\"https://www.billboard.com/charts/billboard-200/{selected_date}/\"\n",
    "elif date_input and datetime.strptime(date_input, \"%Y-%m-%d\"):  # If valid YYYY-MM-DD date\n",
    "    url = f\"https://www.billboard.com/charts/billboard-200/{date_input}/\"\n",
    "else:  # Default to the latest chart\n",
    "    url = \"https://www.billboard.com/charts/billboard-200/\"\n",
    "    selected_date = \"Latest\""
   ]
  },
  {
   "cell_type": "code",
   "execution_count": 13,
   "id": "aaad9aca-4add-405d-803b-fd8c366d9ebf",
   "metadata": {},
   "outputs": [],
   "source": [
    "# Headers to mimic a real browser request\n",
    "headers = {\n",
    "    \"User-Agent\": \"Mozilla/5.0 (Windows NT 10.0; Win64; x64) AppleWebKit/537.36 (KHTML, like Gecko) Chrome/119.0.0.0 Safari/537.36\"\n",
    "}\n",
    "\n",
    "# Fetch the webpage\n",
    "response = requests.get(url, headers=headers)\n",
    "\n",
    "# Check if the request was successful\n",
    "if response.status_code == 200:\n",
    "    soup = BeautifulSoup(response.text, 'lxml')\n"
   ]
  },
  {
   "cell_type": "code",
   "execution_count": 14,
   "id": "b5f44cc2-d5f7-4af1-9320-7797ebdae495",
   "metadata": {},
   "outputs": [],
   "source": [
    "    # Extract the top 10 song titles\n",
    "    song_titles = [song.text.strip() for song in soup.select(\"h3#title-of-a-story\")[:10]]\n",
    "\n",
    "    # Extract the top 10 artist names\n",
    "    artists = [artist.text.strip() for artist in soup.select(\"span.c-label.a-font-primary-s\")[:10]]\n"
   ]
  },
  {
   "cell_type": "code",
   "execution_count": 35,
   "id": "b0999a01-e3b0-4e91-9bef-6ebb1151afcc",
   "metadata": {},
   "outputs": [],
   "source": [
    "# Create and display a DataFrame\n",
    "df = pd.DataFrame({\"Song Title\": song_titles, \"Artist\": artists})\n"
   ]
  },
  {
   "cell_type": "code",
   "execution_count": 36,
   "id": "44c287cd-cb47-44d6-a762-7d48a7ec825a",
   "metadata": {},
   "outputs": [
    {
     "name": "stdout",
     "output_type": "stream",
     "text": [
      "\n",
      "🎵 Billboard Hot 10 Chart for 2025-02-15 🎶\n",
      "                                          Song Title             Artist\n",
      "0                           Imprint/Promotion Label:         The Weeknd\n",
      "1  What Does The Weeknd's 'Hurry Up Tomorrow' Fir...          Bad Bunny\n",
      "2                        Gains in Weekly Performance                SZA\n",
      "3                                  Additional Awards     Kendrick Lamar\n",
      "4                                  Hurry Up Tomorrow      Billie Eilish\n",
      "5                           Imprint/Promotion Label:      Chappell Roan\n",
      "6                               Debi Tirar Mas Fotos  Sabrina Carpenter\n",
      "7                           Imprint/Promotion Label:      Morgan Wallen\n",
      "8                                                SOS       Taylor Swift\n",
      "9                           Imprint/Promotion Label:      Gracie Abrams\n"
     ]
    }
   ],
   "source": [
    "if not df.empty:  # Check if the DataFrame has data\n",
    "    print(f\"\\n🎵 Billboard Hot 10 Chart for {selected_date} 🎶\")\n",
    "    print(df)\n",
    "else:  # This now properly follows an if-statement\n",
    "    print(f\"❌ Error: Could not fetch data for {selected_date}. Check the date format or try again later.\")\n"
   ]
  },
  {
   "cell_type": "code",
   "execution_count": null,
   "id": "59401b3c-0d71-49e6-8268-59212d68a7aa",
   "metadata": {},
   "outputs": [],
   "source": []
  }
 ],
 "metadata": {
  "kernelspec": {
   "display_name": "Python 3 (ipykernel)",
   "language": "python",
   "name": "python3"
  },
  "language_info": {
   "codemirror_mode": {
    "name": "ipython",
    "version": 3
   },
   "file_extension": ".py",
   "mimetype": "text/x-python",
   "name": "python",
   "nbconvert_exporter": "python",
   "pygments_lexer": "ipython3",
   "version": "3.12.3"
  },
  "widgets": {
   "application/vnd.jupyter.widget-state+json": {
    "state": {},
    "version_major": 2,
    "version_minor": 0
   }
  }
 },
 "nbformat": 4,
 "nbformat_minor": 5
}
